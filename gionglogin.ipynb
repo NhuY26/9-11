{
  "nbformat": 4,
  "nbformat_minor": 0,
  "metadata": {
    "colab": {
      "name": "bai2-16-11.ipynb",
      "provenance": [],
      "authorship_tag": "ABX9TyMPhMJfycV4CiKfarMAK7oc",
      "include_colab_link": true
    },
    "kernelspec": {
      "name": "python3",
      "display_name": "Python 3"
    },
    "language_info": {
      "name": "python"
    }
  },
  "cells": [
    {
      "cell_type": "markdown",
      "metadata": {
        "id": "view-in-github",
        "colab_type": "text"
      },
      "source": [
        "<a href=\"https://colab.research.google.com/github/NhuY26/9-11/blob/main/gionglogin.ipynb\" target=\"_parent\"><img src=\"https://colab.research.google.com/assets/colab-badge.svg\" alt=\"Open In Colab\"/></a>"
      ]
    },
    {
      "cell_type": "code",
      "metadata": {
        "id": "5w_oyUGwibhz",
        "colab": {
          "base_uri": "https://localhost:8080/"
        },
        "outputId": "76a4e1d0-3c99-4d43-a511-f2c3d553fab8"
      },
      "source": [
        "\n",
        "u = input(\"username: \")\n",
        "p = input(\"passwork\")\n",
        "#check\n",
        "if u == \"peter\" and p== \"Rj@is2019\":\n",
        " print(\"Login success\")\n",
        "else:\n",
        " print(\"Login failure\")"
      ],
      "execution_count": 17,
      "outputs": [
        {
          "output_type": "stream",
          "name": "stdout",
          "text": [
            "username: cdcdc\n",
            "passworkcdccd\n",
            "Login failure\n"
          ]
        }
      ]
    }
  ]
}